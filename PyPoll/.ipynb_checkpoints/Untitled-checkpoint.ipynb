{
 "cells": [
  {
   "cell_type": "code",
   "execution_count": 1,
   "metadata": {},
   "outputs": [],
   "source": [
    "import csv"
   ]
  },
  {
   "cell_type": "code",
   "execution_count": 2,
   "metadata": {},
   "outputs": [],
   "source": [
    "poll_data='election_data.csv'"
   ]
  },
  {
   "cell_type": "code",
   "execution_count": 3,
   "metadata": {},
   "outputs": [],
   "source": [
    "textpath='output.txt'\n",
    "textfile=open(textpath,'w')"
   ]
  },
  {
   "cell_type": "code",
   "execution_count": 4,
   "metadata": {},
   "outputs": [
    {
     "name": "stdout",
     "output_type": "stream",
     "text": [
      "Election Results\n",
      "----------------------------\n"
     ]
    }
   ],
   "source": [
    "print(\"Election Results\")\n",
    "print(\"----------------------------\")\n"
   ]
  },
  {
   "cell_type": "code",
   "execution_count": 5,
   "metadata": {},
   "outputs": [
    {
     "data": {
      "text/plain": [
       "29"
      ]
     },
     "execution_count": 5,
     "metadata": {},
     "output_type": "execute_result"
    }
   ],
   "source": [
    "textfile.write(\"Election Results\\n\")\n",
    "textfile.write(\"----------------------------\\n\")"
   ]
  },
  {
   "cell_type": "code",
   "execution_count": 6,
   "metadata": {},
   "outputs": [
    {
     "name": "stdout",
     "output_type": "stream",
     "text": [
      "Total Votes: 3521001\n",
      "----------------------------\n"
     ]
    }
   ],
   "source": [
    "voter=[]\n",
    "county=[]\n",
    "votelist=[]\n",
    "\n",
    "with open(poll_data) as csvfile:\n",
    "    csvreader = csv.reader(csvfile)\n",
    "    #skip the header\n",
    "    header=next(csvreader)\n",
    "    for row in csvreader:\n",
    "        voter.append(row[0])\n",
    "        county.append(row[1])\n",
    "        votelist.append(row[2])\n",
    "print(f'Total Votes: {len(voter)}')\n",
    "print(\"----------------------------\")"
   ]
  },
  {
   "cell_type": "code",
   "execution_count": 7,
   "metadata": {},
   "outputs": [
    {
     "data": {
      "text/plain": [
       "29"
      ]
     },
     "execution_count": 7,
     "metadata": {},
     "output_type": "execute_result"
    }
   ],
   "source": [
    "textfile.write(f'Total Votes: {len(voter)}'+'\\n')\n",
    "textfile.write(\"----------------------------\\n\")"
   ]
  },
  {
   "cell_type": "code",
   "execution_count": 8,
   "metadata": {},
   "outputs": [],
   "source": [
    "candidates=[]\n",
    "candidates=list(set(votelist))"
   ]
  },
  {
   "cell_type": "code",
   "execution_count": 9,
   "metadata": {},
   "outputs": [
    {
     "name": "stdout",
     "output_type": "stream",
     "text": [
      "Correy: 20.000% (704200)\n",
      "O'Tooley: 3.000% (105630)\n",
      "Li: 14.000% (492940)\n",
      "Khan: 63.000% (2218231)\n"
     ]
    }
   ],
   "source": [
    "vote_num=[]\n",
    "\n",
    "for c in candidates:\n",
    "    count=0\n",
    "    for v in votelist:\n",
    "        if c==v:\n",
    "            count=count+1\n",
    "    vote_num.append(count)\n",
    "    \n",
    "    print(f\"{c}: {votelist.count(c)/len(voter):.3%} ({votelist.count(c)})\")"
   ]
  },
  {
   "cell_type": "code",
   "execution_count": 10,
   "metadata": {},
   "outputs": [
    {
     "data": {
      "text/plain": [
       "24"
      ]
     },
     "execution_count": 10,
     "metadata": {},
     "output_type": "execute_result"
    }
   ],
   "source": [
    "    textfile.write(f\"{c}: {votelist.count(c)/len(voter):.3%} ({votelist.count(c)})\"+'\\n')"
   ]
  },
  {
   "cell_type": "code",
   "execution_count": 11,
   "metadata": {
    "scrolled": true
   },
   "outputs": [
    {
     "name": "stdout",
     "output_type": "stream",
     "text": [
      "----------------------------\n",
      "Winner: Khan\n",
      "----------------------------\n"
     ]
    }
   ],
   "source": [
    "winner=candidates[vote_num.index(max(vote_num))]\n",
    "print(\"----------------------------\")\n",
    "print(f'Winner: {winner}')\n",
    "print(\"----------------------------\")\n"
   ]
  },
  {
   "cell_type": "code",
   "execution_count": 12,
   "metadata": {},
   "outputs": [],
   "source": [
    "textfile.write(\"----------------------------\\n\")\n",
    "textfile.write(f'Winner: {winner}'+\"\\n\")\n",
    "textfile.write(\"----------------------------\\n\")\n",
    "textfile.close()"
   ]
  },
  {
   "cell_type": "code",
   "execution_count": null,
   "metadata": {},
   "outputs": [],
   "source": []
  },
  {
   "cell_type": "code",
   "execution_count": null,
   "metadata": {},
   "outputs": [],
   "source": []
  }
 ],
 "metadata": {
  "kernelspec": {
   "display_name": "Python [conda env:anaconda3]",
   "language": "python",
   "name": "conda-env-anaconda3-py"
  },
  "language_info": {
   "codemirror_mode": {
    "name": "ipython",
    "version": 3
   },
   "file_extension": ".py",
   "mimetype": "text/x-python",
   "name": "python",
   "nbconvert_exporter": "python",
   "pygments_lexer": "ipython3",
   "version": "3.6.5"
  }
 },
 "nbformat": 4,
 "nbformat_minor": 2
}
