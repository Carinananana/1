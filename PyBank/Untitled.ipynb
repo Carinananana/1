{
 "cells": [
  {
   "cell_type": "code",
   "execution_count": 1,
   "metadata": {},
   "outputs": [],
   "source": [
    "import csv"
   ]
  },
  {
   "cell_type": "code",
   "execution_count": 2,
   "metadata": {},
   "outputs": [],
   "source": [
    "bank_data='budget_data.csv'"
   ]
  },
  {
   "cell_type": "code",
   "execution_count": 3,
   "metadata": {},
   "outputs": [
    {
     "name": "stdout",
     "output_type": "stream",
     "text": [
      "Financial Analysis\n",
      "----------------------------\n"
     ]
    }
   ],
   "source": [
    "print(\"Financial Analysis\")\n",
    "print(\"----------------------------\")\n",
    "\n",
    "month=[]\n",
    "money=[]\n",
    "change=[]\n",
    "with open(bank_data) as csvfile:\n",
    "    csvreader = csv.reader(csvfile)\n",
    "    for row in csvreader:\n",
    "        month.append(row[0])\n",
    "        money.append(row[1])\n"
   ]
  },
  {
   "cell_type": "code",
   "execution_count": 4,
   "metadata": {},
   "outputs": [
    {
     "name": "stdout",
     "output_type": "stream",
     "text": [
      "Total Months: 86\n"
     ]
    }
   ],
   "source": [
    "print(f'Total Months: {len(month)-1}')"
   ]
  },
  {
   "cell_type": "code",
   "execution_count": 5,
   "metadata": {},
   "outputs": [],
   "source": [
    "money.remove(\"Profit/Losses\")\n",
    "money = list(map(int, money))"
   ]
  },
  {
   "cell_type": "code",
   "execution_count": 6,
   "metadata": {},
   "outputs": [
    {
     "name": "stdout",
     "output_type": "stream",
     "text": [
      "Total: $38382578\n",
      "Average Change: $-2315.12\n",
      "Greatest Increase in Profits: Feb-2012 ($1926159)\n",
      "Greatest Decrease in Profits: Sep-2013 ($-2196167)\n"
     ]
    }
   ],
   "source": [
    "sum=0\n",
    "for i in range(len(money)):\n",
    "    sum=sum+money[i]\n",
    "    ave_change=(money[-1]-money[0])/(len(money)-1)\n",
    "    \n",
    "    if i >=1:\n",
    "        changes=money[i]-money[i-1]\n",
    "        change.append(changes)\n",
    "        max_change=max(change)\n",
    "        max_date=month[change.index(max(change))+2]\n",
    "        min_change=min(change)\n",
    "        min_date=month[change.index(min(change))+2]\n",
    "print(f\"Total: ${sum}\") \n",
    "print(f\"Average Change: ${ave_change:.2f}\") \n",
    "print(f\"Greatest Increase in Profits: {max_date} (${max_change})\")\n",
    "print(f\"Greatest Decrease in Profits: {min_date} (${min_change})\")"
   ]
  },
  {
   "cell_type": "code",
   "execution_count": 7,
   "metadata": {},
   "outputs": [],
   "source": [
    "txtpath='output.txt'\n",
    "txtfile=open(txtpath, \"w\")"
   ]
  },
  {
   "cell_type": "code",
   "execution_count": 8,
   "metadata": {},
   "outputs": [],
   "source": [
    "txtfile.write(\"Financial Analysis\\n\")\n",
    "txtfile.write(\"----------------------------\\n\")\n",
    "txtfile.write(f'Total Months: {len(month)-1}'+\"\\n\")\n",
    "txtfile.write(f\"Total: ${sum}\"+\"\\n\") \n",
    "txtfile.write(f\"Average Change: ${ave_change:.2f}\"+\"\\n\") \n",
    "txtfile.write(f\"Greatest Increase in Profits: {max_date} (${max_change})\"+\"\\n\")\n",
    "txtfile.write(f\"Greatest Decrease in Profits: {min_date} (${min_change})\"+\"\\n\")\n",
    "txtfile.close()"
   ]
  }
 ],
 "metadata": {
  "kernelspec": {
   "display_name": "Python [conda env:anaconda3]",
   "language": "python",
   "name": "conda-env-anaconda3-py"
  },
  "language_info": {
   "codemirror_mode": {
    "name": "ipython",
    "version": 3
   },
   "file_extension": ".py",
   "mimetype": "text/x-python",
   "name": "python",
   "nbconvert_exporter": "python",
   "pygments_lexer": "ipython3",
   "version": "3.6.5"
  }
 },
 "nbformat": 4,
 "nbformat_minor": 2
}
